{
 "cells": [
  {
   "cell_type": "code",
   "execution_count": 4,
   "id": "9ddb6517-f9e9-4dda-a95e-5d0640f90acc",
   "metadata": {},
   "outputs": [],
   "source": [
    "salaries = ['20k', '40k', '50k', '60k', '35k', '89k','40k']"
   ]
  },
  {
   "cell_type": "code",
   "execution_count": 5,
   "id": "1c0cbb6d-15ed-4844-a728-3acf697f83ca",
   "metadata": {},
   "outputs": [
    {
     "name": "stdout",
     "output_type": "stream",
     "text": [
      "7\n"
     ]
    }
   ],
   "source": [
    "#1. What is the length of the salaries list.\n",
    "print(len(salaries))"
   ]
  },
  {
   "cell_type": "code",
   "execution_count": 6,
   "id": "4204c0af-231c-4a9a-af93-fbb662a7d327",
   "metadata": {},
   "outputs": [
    {
     "data": {
      "text/plain": [
       "'50k'"
      ]
     },
     "execution_count": 6,
     "metadata": {},
     "output_type": "execute_result"
    }
   ],
   "source": [
    "#2. Retrieve the third salary in the list by using index.\n",
    "salaries[2]"
   ]
  },
  {
   "cell_type": "code",
   "execution_count": 7,
   "id": "cffc0101-5566-43b5-924b-eec91cc59270",
   "metadata": {},
   "outputs": [
    {
     "name": "stdout",
     "output_type": "stream",
     "text": [
      "['40k']\n"
     ]
    }
   ],
   "source": [
    "#3. Extract the last salary from the list by using a negative index.\n",
    "print(salaries[-1:])"
   ]
  },
  {
   "cell_type": "code",
   "execution_count": 8,
   "id": "3be776b5-ca21-4a08-9c66-57298263e266",
   "metadata": {},
   "outputs": [
    {
     "name": "stdout",
     "output_type": "stream",
     "text": [
      "['50k', '60k', '35k']\n"
     ]
    }
   ],
   "source": [
    "#4. Slice the salaries list to get only the middle three salaries.\n",
    "print(salaries[2:5])"
   ]
  },
  {
   "cell_type": "code",
   "execution_count": 9,
   "id": "485674e2-ece6-4b71-85df-a732aac2b359",
   "metadata": {},
   "outputs": [
    {
     "data": {
      "text/plain": [
       "['20k', '40k', '50k', '60k', '35k', '89k', '40k']"
      ]
     },
     "execution_count": 9,
     "metadata": {},
     "output_type": "execute_result"
    }
   ],
   "source": [
    "salaries"
   ]
  },
  {
   "cell_type": "code",
   "execution_count": 10,
   "id": "60a653e1-75d4-400a-81e7-c5c792d596a7",
   "metadata": {},
   "outputs": [
    {
     "name": "stdout",
     "output_type": "stream",
     "text": [
      "['20k', '40k', '50k', '60k', '35k', '89k', '40k', '100k']\n"
     ]
    }
   ],
   "source": [
    "#5. Add a new salary to the list, ‘100k’ by using append() method.\n",
    "salaries.append('100k')\n",
    "print(salaries)"
   ]
  },
  {
   "cell_type": "code",
   "execution_count": 11,
   "id": "da5f4f22-76c5-410f-804f-87fae3cd0137",
   "metadata": {},
   "outputs": [
    {
     "name": "stdout",
     "output_type": "stream",
     "text": [
      "[['20k', '40k', '50k', '60k', '35k', '89k', '40k', '100k'], '120k']\n"
     ]
    }
   ],
   "source": [
    "#5 Add a new salary to the list, ‘120k’ without method.\n",
    "exp = [salaries , '120k']\n",
    "print(exp)"
   ]
  },
  {
   "cell_type": "code",
   "execution_count": 12,
   "id": "3cc0f13d-3f82-4711-854c-3962337b4901",
   "metadata": {},
   "outputs": [
    {
     "data": {
      "text/plain": [
       "['20k', '40k', '50k', '60k', '35k', '89k', '40k', '100k']"
      ]
     },
     "execution_count": 12,
     "metadata": {},
     "output_type": "execute_result"
    }
   ],
   "source": [
    "salaries"
   ]
  },
  {
   "cell_type": "code",
   "execution_count": 13,
   "id": "9ab2cb75-d649-4a25-add0-a6934c9031a0",
   "metadata": {},
   "outputs": [
    {
     "data": {
      "text/plain": [
       "['20k', '40k', '55k', '60k', '35k', '89k', '40k', '100k']"
      ]
     },
     "execution_count": 13,
     "metadata": {},
     "output_type": "execute_result"
    }
   ],
   "source": [
    "#6 Replace the third salary in the list with '55k' and print the updated list.\n",
    "salaries[2] = '55k'\n",
    "salaries"
   ]
  },
  {
   "cell_type": "code",
   "execution_count": 14,
   "id": "b9f1fdae-561b-4392-b34e-09e1137a7840",
   "metadata": {},
   "outputs": [
    {
     "data": {
      "text/plain": [
       "['20k', '40k', '55k', '60k', '35k', '89k', '40k', '100k']"
      ]
     },
     "execution_count": 14,
     "metadata": {},
     "output_type": "execute_result"
    }
   ],
   "source": [
    "salaries"
   ]
  },
  {
   "cell_type": "code",
   "execution_count": 15,
   "id": "d27d2e1e-2c62-4a52-93aa-f25d3966ea8f",
   "metadata": {},
   "outputs": [
    {
     "name": "stdout",
     "output_type": "stream",
     "text": [
      "2\n"
     ]
    }
   ],
   "source": [
    "#7 Count how many times '40k' appears in the list.\n",
    "count = salaries.count('40k')\n",
    "print(count)"
   ]
  },
  {
   "cell_type": "code",
   "execution_count": 16,
   "id": "c28428ee-a93b-4e5a-914c-676c10ef31db",
   "metadata": {},
   "outputs": [
    {
     "name": "stdout",
     "output_type": "stream",
     "text": [
      "['20k', '48k', '40k', '55k', '60k', '35k', '89k', '40k', '100k']\n"
     ]
    }
   ],
   "source": [
    "#8. Insert a new salary at the second position.\n",
    "salaries.insert(1,'48k')\n",
    "print(salaries)"
   ]
  },
  {
   "cell_type": "code",
   "execution_count": 17,
   "id": "00ad04f5-17a7-46e3-9d78-1a39f670e8e2",
   "metadata": {},
   "outputs": [
    {
     "name": "stdout",
     "output_type": "stream",
     "text": [
      "['100k', '40k', '89k', '35k', '60k', '55k', '40k', '48k', '20k']\n"
     ]
    }
   ],
   "source": [
    "#9. Reverse the order of the salaries list with method.\n",
    "salaries.reverse()\n",
    "print(salaries)"
   ]
  },
  {
   "cell_type": "code",
   "execution_count": 18,
   "id": "57d77fa9-3fe7-4b8d-aef5-d913dabcd7b5",
   "metadata": {},
   "outputs": [
    {
     "data": {
      "text/plain": [
       "['100k', '40k', '89k', '35k', '60k', '55k', '40k', '48k', '20k']"
      ]
     },
     "execution_count": 18,
     "metadata": {},
     "output_type": "execute_result"
    }
   ],
   "source": [
    "salaries"
   ]
  },
  {
   "cell_type": "code",
   "execution_count": 29,
   "id": "1459f7bc-7603-47dc-8cbd-c5da000ff8cb",
   "metadata": {},
   "outputs": [
    {
     "data": {
      "text/plain": [
       "['20k', '48k', '40k', '55k', '60k', '35k', '89k', '40k', '100k']"
      ]
     },
     "execution_count": 29,
     "metadata": {},
     "output_type": "execute_result"
    }
   ],
   "source": [
    "#10. Reverse the order of the salaries list without method.\n",
    "salaries[::-1]"
   ]
  },
  {
   "cell_type": "code",
   "execution_count": null,
   "id": "23aed30c-7bac-46f6-86d1-f354243c3969",
   "metadata": {},
   "outputs": [],
   "source": []
  }
 ],
 "metadata": {
  "kernelspec": {
   "display_name": "Python 3 (ipykernel)",
   "language": "python",
   "name": "python3"
  },
  "language_info": {
   "codemirror_mode": {
    "name": "ipython",
    "version": 3
   },
   "file_extension": ".py",
   "mimetype": "text/x-python",
   "name": "python",
   "nbconvert_exporter": "python",
   "pygments_lexer": "ipython3",
   "version": "3.12.7"
  }
 },
 "nbformat": 4,
 "nbformat_minor": 5
}
