{
 "cells": [
  {
   "cell_type": "markdown",
   "id": "2f5a629f-98c5-477a-98e2-a9f5b13ef85f",
   "metadata": {},
   "source": [
    "##### Write a Python program that takes the age of a person as input and classifies them into one of the following age groups:\n",
    "#### Child; if the age is between 0 and 12 (inclusive).\n",
    "#### Teenager if the age is between 13 and 19 (inclusive).\n",
    "#### Adult&quot; if the age is between 20 and 64 (inclusive).\n",
    "#### Senior&quot; if the age is 65 or older."
   ]
  },
  {
   "cell_type": "code",
   "execution_count": 1,
   "id": "d7717e78-27e3-409f-8888-25a2b1f5f4ce",
   "metadata": {},
   "outputs": [
    {
     "name": "stdin",
     "output_type": "stream",
     "text": [
      "Enter your age:  18\n"
     ]
    },
    {
     "name": "stdout",
     "output_type": "stream",
     "text": [
      "Teenager\n"
     ]
    }
   ],
   "source": [
    "#Q 1\n",
    "age = int(input(\"Enter your age: \"))\n",
    "if age < 13:\n",
    "    print(\"Child\")\n",
    "elif(age>=13 and age <=19):\n",
    "    print(\"Teenager\")\n",
    "elif(age>=20 and age <= 64):\n",
    "    print(\"Adult\")\n",
    "else:\n",
    "    print(\"Senio1r Citizen\")"
   ]
  },
  {
   "cell_type": "code",
   "execution_count": 2,
   "id": "ff90fbbd-20dd-4783-9168-8192a0629173",
   "metadata": {},
   "outputs": [
    {
     "name": "stdin",
     "output_type": "stream",
     "text": [
      "Enter your customer's membership:  abb\n",
      "Enter your amount:  3\n"
     ]
    },
    {
     "name": "stdout",
     "output_type": "stream",
     "text": [
      "Not Eligible for Discount\n"
     ]
    }
   ],
   "source": [
    "#Q 2\n",
    "Customer = input(\"Enter your customer's membership: \")\n",
    "amount = int(input(\"Enter your amount: \"))\n",
    "if((Customer==\"premium\" or Customer==\"Premium\") and amount>=1000):\n",
    "    print(\"Eligible for Discount.\")\n",
    "elif((Customer==\"regular\" or  Customer==\"Regular\") and amount>=2000):\n",
    "    print(\"Eligible for Discount.\")\n",
    "else:\n",
    "    print(\"Not Eligible for Discount\")"
   ]
  },
  {
   "cell_type": "code",
   "execution_count": 4,
   "id": "87b4c9f7-eefa-492a-a81a-96f4d65c6b7b",
   "metadata": {},
   "outputs": [
    {
     "name": "stdin",
     "output_type": "stream",
     "text": [
      "Enter your age:  18\n",
      "Your Citizenship Status is:  bbbbbssss\n"
     ]
    },
    {
     "name": "stdout",
     "output_type": "stream",
     "text": [
      "Not eligible to Vote\n"
     ]
    }
   ],
   "source": [
    "#Q 3\n",
    "age = int(input(\"Enter your age: \"))\n",
    "Citizenship_Status = input(\"Your Citizenship Status is: \")\n",
    "if(age>=18 and (Citizenship_Status ==  \"citizen\" or Citizenship_Status ==  \"Citizen\")):\n",
    "    print(\"Eligible to Vote\")\n",
    "elif(age>=16 and (Citizenship_Status ==  \"Special region\" or Citizenship_Status ==  \"special region\")):\n",
    "    print(\"Eligible to Vote\")\n",
    "else:\n",
    "    print(\"Not eligible to Vote\")"
   ]
  },
  {
   "cell_type": "code",
   "execution_count": null,
   "id": "ed9f00d7-b891-4d7d-8fdd-936cbee52883",
   "metadata": {},
   "outputs": [],
   "source": [
    "#4\n",
    "emp_performance = input(\"The employee performance rating is: \")\n",
    "service = float(input(\"Enter your servies in years: \"))\n",
    "if (emp_performance == \"Excellent\" and service>=5):\n",
    "    print(\"Eligible for Bonus.\")\n",
    "elif(emp_performance == \"Good\" and service>=10):\n",
    "    print(\"Eligible for Bonus.\")\n",
    "elif(emp_performance == \"Satisfactory\" and service>=15):\n",
    "    print(\"Eligible for Bonus.\")\n",
    "else:\n",
    "    print(\"Not Eligible for Bonus\")"
   ]
  },
  {
   "cell_type": "code",
   "execution_count": null,
   "id": "96757461-4605-4fb7-a984-dc78cf1f303d",
   "metadata": {},
   "outputs": [],
   "source": [
    "a = \"I'm learning Python programming\"\n",
    "b = a.replace(\" \" , \"_\")\n",
    "print(b)\n",
    "c = b.count(\"_\")\n",
    "print(\"Underscore count is: \" , c)\n",
    "d = b.find(\"_\")\n",
    "if d != -1:\n",
    "    print(\"Position of the first underscore is: \" , d)\n",
    "else:\n",
    "    print(\"No underscore found\")"
   ]
  },
  {
   "cell_type": "code",
   "execution_count": null,
   "id": "5314204c-209b-46fa-9da5-2caa05c037a1",
   "metadata": {},
   "outputs": [],
   "source": [
    "#6\n",
    "word = input(\"Enter your word: \")\n",
    "word_list = word[:-3]\n",
    "print(word_list)\n",
    "print(\"Every second character: \", word[::2])\n",
    "print(\"Reversed string: \",word[::-1])"
   ]
  },
  {
   "cell_type": "code",
   "execution_count": null,
   "id": "eb58ea9e-cb74-4fd7-9d0b-f24b151b947a",
   "metadata": {},
   "outputs": [],
   "source": [
    "sentence = input(\"Enter your sentence: \")\n",
    "words = sentence.split()\n",
    "reversed_words = words[::-1]\n",
    "reversed_sentence = ' '.join(reversed_words)\n",
    "print(reversed_sentence)"
   ]
  },
  {
   "cell_type": "code",
   "execution_count": 5,
   "id": "546f6dd8-e26a-4b59-9d22-2079a101c16d",
   "metadata": {},
   "outputs": [
    {
     "name": "stdout",
     "output_type": "stream",
     "text": [
      "12345\n"
     ]
    }
   ],
   "source": [
    "product_code = \"SKU-12345-XYZ\"\n",
    "extracted_number = product_code[4:-4]\n",
    "print(extracted_number)"
   ]
  },
  {
   "cell_type": "code",
   "execution_count": 2,
   "id": "9b96d50d-3c8a-4cc0-95ce-f902680b0522",
   "metadata": {},
   "outputs": [
    {
     "name": "stdout",
     "output_type": "stream",
     "text": [
      "Analytics\n"
     ]
    }
   ],
   "source": [
    "#Q10\n",
    "text = \"Hell we are learning Data Analytics\"\n",
    "split_words = text.split()\n",
    "longest_word = (max(split_words, key = len))\n",
    "print(longest_word)"
   ]
  },
  {
   "cell_type": "code",
   "execution_count": 4,
   "id": "6ddd5fbc-0d5a-412c-a634-5f944e9d4da3",
   "metadata": {},
   "outputs": [
    {
     "name": "stdin",
     "output_type": "stream",
     "text": [
      "Enter a password:  World12345@\n"
     ]
    },
    {
     "name": "stdout",
     "output_type": "stream",
     "text": [
      "Password Check Results:\n",
      "Contains uppercase: True\n",
      "Contains lowercase: True\n",
      "Contains spaces: False\n",
      "Contains special characters: True\n"
     ]
    }
   ],
   "source": [
    "#Q9\n",
    "def check_password(password):\n",
    "    print(\"Password Check Results:\")\n",
    "    print(\"Contains uppercase:\", any(c.isupper() for c in password))\n",
    "    print(\"Contains lowercase:\", any(c.islower() for c in password))\n",
    "    print(\"Contains spaces:\", \" \" in password)\n",
    "    print(\"Contains special characters:\", any(not c.isalnum() and c != \" \" for c in password))\n",
    "\n",
    "password = input(\"Enter a password: \")\n",
    "check_password(password)"
   ]
  },
  {
   "cell_type": "code",
   "execution_count": null,
   "id": "e69cee32-bd22-4316-8ff1-dee8767484a7",
   "metadata": {},
   "outputs": [],
   "source": []
  }
 ],
 "metadata": {
  "kernelspec": {
   "display_name": "Python 3 (ipykernel)",
   "language": "python",
   "name": "python3"
  },
  "language_info": {
   "codemirror_mode": {
    "name": "ipython",
    "version": 3
   },
   "file_extension": ".py",
   "mimetype": "text/x-python",
   "name": "python",
   "nbconvert_exporter": "python",
   "pygments_lexer": "ipython3",
   "version": "3.12.7"
  }
 },
 "nbformat": 4,
 "nbformat_minor": 5
}
