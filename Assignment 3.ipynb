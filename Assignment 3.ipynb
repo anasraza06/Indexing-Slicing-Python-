{
 "cells": [
  {
   "cell_type": "markdown",
   "id": "72248770-10b4-4e55-b68e-abf60632ed43",
   "metadata": {},
   "source": [
    "## Eligibility for loan"
   ]
  },
  {
   "cell_type": "code",
   "execution_count": 3,
   "id": "fbc2246a-acfb-426e-8f6f-dd9dbd0621e1",
   "metadata": {},
   "outputs": [
    {
     "name": "stdin",
     "output_type": "stream",
     "text": [
      "Enter your age 20\n",
      "Enter your credit score 749\n",
      "Enter your annual income $: 2600\n"
     ]
    },
    {
     "name": "stdout",
     "output_type": "stream",
     "text": [
      "You are eligible for loan\n"
     ]
    }
   ],
   "source": [
    "age = int(input(\"Enter your age\"))\n",
    "credit_score = int(input(\"Enter your credit score\"))\n",
    "income = int(input(\"Enter your annual income $:\"))\n",
    "if age>=18:\n",
    "    if credit_score >= 650 and credit_score <700:\n",
    "        if income>=30000 and income>=25000:\n",
    "            print(\"You are eligible for loan\")\n",
    "        else:\n",
    "            print(\"Your income is not upto the mark\")\n",
    "    elif credit_score >=700 and income >=2500:\n",
    "        print(\"You are eligible for loan\")\n",
    "    else:\n",
    "        print(\"Not eligible because your credit score is less\")\n",
    "else:\n",
    "    print(\"You are not eligible for loan\")"
   ]
  },
  {
   "cell_type": "code",
   "execution_count": null,
   "id": "b7e24f02-dde8-4c1a-baac-7dd31cc3ec00",
   "metadata": {},
   "outputs": [
    {
     "name": "stdin",
     "output_type": "stream",
     "text": [
      "enter your age:  18\n"
     ]
    },
    {
     "name": "stdout",
     "output_type": "stream",
     "text": [
      "You are adult\n"
     ]
    }
   ],
   "source": [
    "#Q2\n",
    "age = int(input(\"enter your age: \"))\n",
    "if age<18:\n",
    "    print(\"You are underage\")\n",
    "elif (age>=18):\n",
    "    print(\"You are adult\")\n",
    "    experience = int(input(\"Enter you experience in years: \"))\n",
    "    if experience >= 10:\n",
    "        print(\"You have alot of experince\")\n",
    "    elif(experience >= 5 and experience <= 9):\n",
    "        print(\"You have moderate experience\")\n",
    "    elif(experience >= 2 and experience <= 4):\n",
    "        print(\"You have relatively new\")\n",
    "    else:\n",
    "        print(\"You are just starting now\")"
   ]
  },
  {
   "cell_type": "code",
   "execution_count": 1,
   "id": "337c066a-6b5f-4583-88da-517440670df0",
   "metadata": {},
   "outputs": [
    {
     "name": "stdout",
     "output_type": "stream",
     "text": [
      "Memory address of a: 140719196285656\n",
      "Memory address of b: 140719196285656\n",
      "Do a and b share the same memory address? True\n"
     ]
    }
   ],
   "source": [
    "#Q3a)\n",
    "a = 10\n",
    "b = 10\n",
    "\n",
    "# Check memory addresses\n",
    "print(\"Memory address of a:\", id(a))\n",
    "print(\"Memory address of b:\", id(b))\n",
    "\n",
    "# Verify if they share the same memory address\n",
    "print(\"If they have the same memory address?\", id(a) == id(b))"
   ]
  },
  {
   "cell_type": "code",
   "execution_count": 2,
   "id": "230a14bf-880d-424a-9aca-c48956ed2395",
   "metadata": {},
   "outputs": [
    {
     "name": "stdout",
     "output_type": "stream",
     "text": [
      "Memory sizes of different data types:\n",
      "integer: 28 bytes\n",
      "float: 24 bytes\n",
      "string: 41 bytes\n",
      "list: 56 bytes\n",
      "tuple: 40 bytes\n",
      "set: 216 bytes\n",
      "dictionary: 64 bytes\n",
      "boolean: 28 bytes\n",
      "\n",
      "Data type with the least memory size: float (24 bytes)\n",
      "Data type with the least memory size: float\n"
     ]
    }
   ],
   "source": [
    "#3b\n",
    "import sys\n",
    "\n",
    "memory_sizes = []\n",
    "memory_sizes.append((\"integer\", sys.getsizeof(0)))\n",
    "memory_sizes.append((\"float\", sys.getsizeof(0.0)))\n",
    "memory_sizes.append((\"string\", sys.getsizeof(\"\")))\n",
    "memory_sizes.append((\"list\", sys.getsizeof([])))\n",
    "memory_sizes.append((\"tuple\", sys.getsizeof(())))\n",
    "memory_sizes.append((\"set\", sys.getsizeof(set())))\n",
    "memory_sizes.append((\"dictionary\", sys.getsizeof({})))\n",
    "memory_sizes.append((\"boolean\", sys.getsizeof(True)))\n",
    "least_memory = min(memory_sizes, key=lambda x: x[1])\n",
    "print(\"Memory sizes of different data types:\")\n",
    "for dtype, size in memory_sizes:\n",
    "    print(f\"{dtype}: {size} bytes\")\n",
    "\n",
    "print(f\"\\nData type with the least memory size: {least_memory[0]} ({least_memory[1]} bytes)\")\n",
    "#c\n",
    "least_memory = min(memory_sizes, key=lambda x: x[1])\n",
    "print(f\"Data type with the least memory size: {least_memory[0]}\")"
   ]
  },
  {
   "cell_type": "code",
   "execution_count": 3,
   "id": "e35648c4-4a99-4637-a0b0-266abeaec62f",
   "metadata": {},
   "outputs": [
    {
     "name": "stdin",
     "output_type": "stream",
     "text": [
      "Enter your email address anascds279@gmail.com\n"
     ]
    },
    {
     "name": "stdout",
     "output_type": "stream",
     "text": [
      "Email format is valid\n"
     ]
    }
   ],
   "source": [
    "#Q4\n",
    "email_address = input(\"Enter your email address\")\n",
    "if (\"@\" in email_address and \".\" in email_address):\n",
    "    print(\"Email format is valid\")\n",
    "else:\n",
    "    print(\"Email format is invalid\")"
   ]
  },
  {
   "cell_type": "code",
   "execution_count": 5,
   "id": "b3682071-ea73-4ed6-a2ab-6acdd9371177",
   "metadata": {},
   "outputs": [
    {
     "name": "stdout",
     "output_type": "stream",
     "text": [
      "Data types of tuple elements: ['int', 'float', 'str', 'list', 'tuple']\n"
     ]
    }
   ],
   "source": [
    "#Q5\n",
    "x = (11,22.333,'apple',[1,2,3],('a','b'))\n",
    "data_types = []\n",
    "data_types.append(type(x[0]).__name__)\n",
    "data_types.append(type(x[1]).__name__)\n",
    "data_types.append(type(x[2]).__name__)\n",
    "data_types.append(type(x[3]).__name__)\n",
    "data_types.append(type(x[4]).__name__)\n",
    "print(\"Data types of tuple elements:\", data_types)"
   ]
  },
  {
   "cell_type": "code",
   "execution_count": 16,
   "id": "22f3b518-0825-43cf-850c-f90f2c936ad3",
   "metadata": {},
   "outputs": [
    {
     "name": "stdin",
     "output_type": "stream",
     "text": [
      "Enter the username:  admin\n"
     ]
    },
    {
     "name": "stdout",
     "output_type": "stream",
     "text": [
      "User admin is active.\n",
      "User admin is the admin.\n"
     ]
    }
   ],
   "source": [
    "#Q6\n",
    "active_users = [\"Anas\", \"Ammad\", \"Rashid\", \"Faizan\", \"Hassan\", \"admin\"]\n",
    "username = input(\"Enter the username: \")\n",
    "\n",
    "if username in active_users:\n",
    "    print(\"User\" , username , \"is active.\")\n",
    "    if username == \"admin\":\n",
    "        print(\"User\" , username , \"is the admin.\")\n",
    "    else:\n",
    "        print(\"User\" , username , \"is not the admin.\")\n",
    "else:\n",
    "    print(\"User\" , username , \"is not an active user.\")"
   ]
  },
  {
   "cell_type": "code",
   "execution_count": 18,
   "id": "8767fe36-3ea0-4aa8-97ac-ec77662fa344",
   "metadata": {},
   "outputs": [
    {
     "name": "stdout",
     "output_type": "stream",
     "text": [
      "1838359864832\n",
      "1838359864832\n",
      "1838345507520\n",
      "Siblings\n"
     ]
    }
   ],
   "source": [
    "#Q7\n",
    "person1 = ['father name','mother name','district','family number']\n",
    "person2 = person1\n",
    "person3 = ['father name','mother name','district','family number']\n",
    "print(id(person1))\n",
    "print(id(person2))\n",
    "print(id(person3))\n",
    "if person1 is person2:\n",
    "    print(\"Siblings\")\n",
    "elif person1 is person3:\n",
    "    print(\"Cousin\")\n",
    "else:\n",
    "    print(\"Error\")"
   ]
  },
  {
   "cell_type": "code",
   "execution_count": 19,
   "id": "87b71d6d-3d4d-449f-a911-003f358a2625",
   "metadata": {},
   "outputs": [
    {
     "name": "stdin",
     "output_type": "stream",
     "text": [
      "Enter the book's title:  Python basic\n",
      "Enter the author's name:  John Alia\n",
      "Enter the year of publication:  2010\n",
      "Enter the price of the book:  250\n"
     ]
    },
    {
     "name": "stdout",
     "output_type": "stream",
     "text": [
      "Book Information:\n",
      "('Python basic', 'John Alia', '2010', 250.0)\n"
     ]
    }
   ],
   "source": [
    "#Q8\n",
    "title = input(\"Enter the book's title: \")\n",
    "author = input(\"Enter the author's name: \")\n",
    "year = input(\"Enter the year of publication: \")\n",
    "price = float(input(\"Enter the price of the book: \"))\n",
    "book = (title, author, year, price)\n",
    "print(\"Book Information:\")\n",
    "print(book)"
   ]
  },
  {
   "cell_type": "code",
   "execution_count": 29,
   "id": "22daf85f-9d40-4bed-8a41-866eacb33b56",
   "metadata": {},
   "outputs": [
    {
     "name": "stdin",
     "output_type": "stream",
     "text": [
      "Enter your subject:  Math\n"
     ]
    },
    {
     "name": "stdout",
     "output_type": "stream",
     "text": [
      "The SubjectMathis available\n"
     ]
    }
   ],
   "source": [
    "#Q9\n",
    "List = [\"English\",\"Urdu\",\"Physics\",\"Chemistry\",\"Math\"]\n",
    "Subject = input(\"Enter your subject: \")\n",
    "if Subject in List:\n",
    "    print(\"The Subject\" + Subject + \"is available\")\n",
    "else:\n",
    "    print(\"The Subject\"  + Subject +  \"is not available\")"
   ]
  },
  {
   "cell_type": "code",
   "execution_count": 31,
   "id": "79a5f6af-3323-46ae-a2de-9b9997f3b1be",
   "metadata": {},
   "outputs": [
    {
     "name": "stdin",
     "output_type": "stream",
     "text": [
      "Enter a number to find its first occurrence in the tuple:  25\n"
     ]
    },
    {
     "name": "stdout",
     "output_type": "stream",
     "text": [
      "The number 25 is not in the tuple.\n"
     ]
    },
    {
     "name": "stdin",
     "output_type": "stream",
     "text": [
      "Enter another number to count its occurrences in the tuple:  20\n"
     ]
    },
    {
     "name": "stdout",
     "output_type": "stream",
     "text": [
      "The number 20 appears 3 time(s) in the tuple.\n"
     ]
    }
   ],
   "source": [
    "#Q10\n",
    "numbers = (10, 20, 30, 20, 40, 20, 50)\n",
    "first_number = int(input(\"Enter a number to find its first occurrence in the tuple: \"))\n",
    "if first_number in numbers:\n",
    "    first_index = numbers.index(first_number)\n",
    "    print(\"The first occurrence of\" , first_number , \"is at index\" , first_index)\n",
    "else:\n",
    "    print(\"The number\" , first_number , \"is not in the tuple.\")\n",
    "second_number = int(input(\"Enter another number to count its occurrences in the tuple: \"))\n",
    "count = numbers.count(second_number)\n",
    "print(\"The number\" , second_number , \"appears\" , count , \"time(s) in the tuple.\")"
   ]
  }
 ],
 "metadata": {
  "kernelspec": {
   "display_name": "Python 3 (ipykernel)",
   "language": "python",
   "name": "python3"
  },
  "language_info": {
   "codemirror_mode": {
    "name": "ipython",
    "version": 3
   },
   "file_extension": ".py",
   "mimetype": "text/x-python",
   "name": "python",
   "nbconvert_exporter": "python",
   "pygments_lexer": "ipython3",
   "version": "3.12.7"
  }
 },
 "nbformat": 4,
 "nbformat_minor": 5
}
